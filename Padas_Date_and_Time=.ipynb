{
  "nbformat": 4,
  "nbformat_minor": 0,
  "metadata": {
    "colab": {
      "name": "Padas Date and Time=",
      "provenance": [],
      "collapsed_sections": []
    },
    "kernelspec": {
      "name": "python3",
      "display_name": "Python 3"
    }
  },
  "cells": [
    {
      "cell_type": "markdown",
      "metadata": {
        "id": "t0bLJ1JMgmzT"
      },
      "source": [
        "# Imports"
      ]
    },
    {
      "cell_type": "code",
      "metadata": {
        "id": "mWNA7zJHgqUB"
      },
      "source": [
        "from datetime import datetime\n",
        "from datetime import timedelta\n",
        "import pandas as pd\n",
        "import seaborn as sns\n",
        "import matplotlib.pyplot as plt"
      ],
      "execution_count": null,
      "outputs": []
    },
    {
      "cell_type": "markdown",
      "metadata": {
        "id": "FL-eDQnxgsug"
      },
      "source": [
        "# You have to convert each string variable into datetime objects"
      ]
    },
    {
      "cell_type": "code",
      "metadata": {
        "id": "gRsiQWy1hFaz",
        "colab": {
          "base_uri": "https://localhost:8080/"
        },
        "outputId": "06cb93f7-6a06-4c50-a49d-cc797c8b09a7"
      },
      "source": [
        "var1 = '2018-01-04'\n",
        "print(type(var1))\n",
        "print(var1)"
      ],
      "execution_count": null,
      "outputs": [
        {
          "output_type": "stream",
          "name": "stdout",
          "text": [
            "<class 'str'>\n",
            "2018-01-04\n"
          ]
        }
      ]
    },
    {
      "cell_type": "code",
      "metadata": {
        "id": "817Nim6FgvF4",
        "colab": {
          "base_uri": "https://localhost:8080/"
        },
        "outputId": "e8d29801-237a-41c2-e6d5-273860c8052e"
      },
      "source": [
        "# It's up to you :\n",
        "var1 = datetime.strptime('2018-01-04', '%Y-%m-%d').date()\n",
        "print(type(var1))\n",
        "print(var1)\n",
        "\n",
        "\n"
      ],
      "execution_count": null,
      "outputs": [
        {
          "output_type": "stream",
          "name": "stdout",
          "text": [
            "<class 'datetime.date'>\n",
            "2018-01-04\n"
          ]
        }
      ]
    },
    {
      "cell_type": "code",
      "metadata": {
        "id": "-m_HBQQRhfrO",
        "colab": {
          "base_uri": "https://localhost:8080/"
        },
        "outputId": "bc86eb9d-d3d4-46a6-84fd-2d2d2c1d6b2b"
      },
      "source": [
        "var2 = '14/02/2019'\n",
        "# It's up to you :\n",
        "var2 = datetime.strptime('14/02/2019', '%d/%m/%Y').date()\n",
        "print(type(var2))\n",
        "print(var2)"
      ],
      "execution_count": null,
      "outputs": [
        {
          "output_type": "stream",
          "name": "stdout",
          "text": [
            "<class 'datetime.date'>\n",
            "2019-02-14\n"
          ]
        }
      ]
    },
    {
      "cell_type": "code",
      "metadata": {
        "id": "-UWufd5WhrXh",
        "colab": {
          "base_uri": "https://localhost:8080/"
        },
        "outputId": "37790b9a-ac61-469b-f18e-3d29238fe329"
      },
      "source": [
        "\n",
        "var3 = '14 03 20'\n",
        "var3 = datetime.strptime('14 03 20', '%d %m %y').date()\n",
        "\n",
        "print(type(var3))\n",
        "print(var3)"
      ],
      "execution_count": null,
      "outputs": [
        {
          "output_type": "stream",
          "name": "stdout",
          "text": [
            "<class 'datetime.date'>\n",
            "2020-03-14\n"
          ]
        }
      ]
    },
    {
      "cell_type": "code",
      "metadata": {
        "id": "KIDWq6hXh8sL",
        "colab": {
          "base_uri": "https://localhost:8080/"
        },
        "outputId": "54fd202c-80ac-4bea-b90c-abfae0e70251"
      },
      "source": [
        "var4 = '14/02/2019 21:30'\n",
        "# It's up to you :\n",
        "var4 = datetime.strptime('14/02/2019 21:30', '%d/%m/%Y %H:%M')\n",
        "print(type(var4))\n",
        "print(var4)"
      ],
      "execution_count": null,
      "outputs": [
        {
          "output_type": "stream",
          "name": "stdout",
          "text": [
            "<class 'datetime.datetime'>\n",
            "2019-02-14 21:30:00\n"
          ]
        }
      ]
    },
    {
      "cell_type": "code",
      "metadata": {
        "id": "9N-VqO3DiA9y",
        "colab": {
          "base_uri": "https://localhost:8080/"
        },
        "outputId": "f2f6c1ef-6d7c-4353-e7eb-a79389283e28"
      },
      "source": [
        "var5 = '2018-01-04 at 18 hours and 48 min'\n",
        "# It's up to you :\n",
        "var5 = datetime.strptime('2018-01-04 at 18 hours and 48 min', '%Y-%m-%d at %H hours and %M min')\n",
        "print(type(var5))\n",
        "print(var5)"
      ],
      "execution_count": null,
      "outputs": [
        {
          "output_type": "stream",
          "name": "stdout",
          "text": [
            "<class 'datetime.datetime'>\n",
            "2018-01-04 18:48:00\n"
          ]
        }
      ]
    },
    {
      "cell_type": "markdown",
      "metadata": {
        "id": "6xa7YX8AivRC"
      },
      "source": [
        "# You have to convert a datetime object into string with precise format"
      ]
    },
    {
      "cell_type": "code",
      "metadata": {
        "id": "ZqAwQbGKi8Og",
        "colab": {
          "base_uri": "https://localhost:8080/",
          "height": 52
        },
        "outputId": "d417d447-5357-4cf6-95ff-f0338db1b328"
      },
      "source": [
        "var_date = datetime.strptime('2020-02-15 20:05', '%Y-%m-%d %H:%M')\n",
        "print(var_date)\n",
        "\n",
        "datetime.strftime(var_date, '%d/%m/%Y,%H:%M')\n"
      ],
      "execution_count": null,
      "outputs": [
        {
          "output_type": "stream",
          "name": "stdout",
          "text": [
            "2020-02-15 20:05:00\n"
          ]
        },
        {
          "output_type": "execute_result",
          "data": {
            "application/vnd.google.colaboratory.intrinsic+json": {
              "type": "string"
            },
            "text/plain": [
              "'15/02/2020,20:05'"
            ]
          },
          "metadata": {},
          "execution_count": 82
        }
      ]
    },
    {
      "cell_type": "code",
      "metadata": {
        "id": "Te-biE9gjkj8",
        "colab": {
          "base_uri": "https://localhost:8080/",
          "height": 35
        },
        "outputId": "aed99bc5-7a87-4abb-e771-b4d744361289"
      },
      "source": [
        "# We would like to print this format : 15/02/2020\n",
        "\n",
        "var_date2 = datetime.strptime('15/02/2020', '%d/%m/%Y')\n",
        "datetime.strftime(var_date2, '%d/%m/%Y')"
      ],
      "execution_count": null,
      "outputs": [
        {
          "output_type": "execute_result",
          "data": {
            "application/vnd.google.colaboratory.intrinsic+json": {
              "type": "string"
            },
            "text/plain": [
              "'15/02/2020'"
            ]
          },
          "metadata": {},
          "execution_count": 83
        }
      ]
    },
    {
      "cell_type": "code",
      "metadata": {
        "id": "YaKMyjwcjwQE",
        "colab": {
          "base_uri": "https://localhost:8080/",
          "height": 35
        },
        "outputId": "53ad3ea4-88f2-4e01-fedf-b60e82e56e92"
      },
      "source": [
        "# We would like to print this format : 15-02-2020\n",
        "var_date3 = datetime.strptime('15-02-2020','%d-%m-%Y')\n",
        "datetime.strftime(var_date3,'%d-%m-%y')\n",
        "\n"
      ],
      "execution_count": null,
      "outputs": [
        {
          "output_type": "execute_result",
          "data": {
            "application/vnd.google.colaboratory.intrinsic+json": {
              "type": "string"
            },
            "text/plain": [
              "'15-02-20'"
            ]
          },
          "metadata": {},
          "execution_count": 92
        }
      ]
    },
    {
      "cell_type": "code",
      "metadata": {
        "id": "-QuUBNpaj1ze",
        "colab": {
          "base_uri": "https://localhost:8080/",
          "height": 35
        },
        "outputId": "a4cf5a00-97dd-46e2-d803-82303e5e5c7d"
      },
      "source": [
        "# We would like to print this format : 15/02\n",
        "\n",
        "var_date4 = datetime.strptime('15/02','%d/%m')\n",
        "datetime.strftime(var_date4,'%d/%m')"
      ],
      "execution_count": null,
      "outputs": [
        {
          "output_type": "execute_result",
          "data": {
            "application/vnd.google.colaboratory.intrinsic+json": {
              "type": "string"
            },
            "text/plain": [
              "'15/02'"
            ]
          },
          "metadata": {},
          "execution_count": 101
        }
      ]
    },
    {
      "cell_type": "code",
      "metadata": {
        "id": "HkWp_pmbj2lw",
        "colab": {
          "base_uri": "https://localhost:8080/",
          "height": 35
        },
        "outputId": "8b545ca1-e223-4af5-81f4-44b606ae71d0"
      },
      "source": [
        "# We would like to print this format : 2020-02\n",
        "var_date5 = datetime.strptime('2020-02','%Y-%m')\n",
        "datetime.strftime(var_date5,'%Y-%m')\n"
      ],
      "execution_count": null,
      "outputs": [
        {
          "output_type": "execute_result",
          "data": {
            "application/vnd.google.colaboratory.intrinsic+json": {
              "type": "string"
            },
            "text/plain": [
              "'2020-02'"
            ]
          },
          "metadata": {},
          "execution_count": 111
        }
      ]
    },
    {
      "cell_type": "code",
      "metadata": {
        "id": "_wPUl9tvj3DX",
        "colab": {
          "base_uri": "https://localhost:8080/",
          "height": 35
        },
        "outputId": "bd1ad407-d30e-47c1-c0a5-6edfbe6b3e35"
      },
      "source": [
        "# We would like to print this format : 2020-02-15 at 20:05\n",
        "var_date6 = datetime.strptime('2020-02-15 at 20:05','%Y-%m-%d at %H:%M')\n",
        "datetime.strftime(var_date6,'%Y-%m-%d at %H:%M')"
      ],
      "execution_count": null,
      "outputs": [
        {
          "output_type": "execute_result",
          "data": {
            "application/vnd.google.colaboratory.intrinsic+json": {
              "type": "string"
            },
            "text/plain": [
              "'2020-02-15 at 20:05'"
            ]
          },
          "metadata": {},
          "execution_count": 112
        }
      ]
    },
    {
      "cell_type": "markdown",
      "metadata": {
        "id": "Bdh3lWC-kKeP"
      },
      "source": [
        "# Your mission is to determine which date it was / it will be"
      ]
    },
    {
      "cell_type": "code",
      "metadata": {
        "id": "mqjWPixhjRJt",
        "colab": {
          "base_uri": "https://localhost:8080/"
        },
        "outputId": "56271f87-5e27-4f14-ea3f-4c86340c63ad"
      },
      "source": [
        "# what day will it be in 7 weeks ?\n",
        "print(datetime.now() + timedelta(weeks=7))\n",
        "\n"
      ],
      "execution_count": null,
      "outputs": [
        {
          "output_type": "stream",
          "name": "stdout",
          "text": [
            "2021-12-14 10:13:07.545831\n"
          ]
        }
      ]
    },
    {
      "cell_type": "code",
      "metadata": {
        "colab": {
          "base_uri": "https://localhost:8080/",
          "height": 79
        },
        "id": "mtHywHMKFvpf",
        "outputId": "069c5465-e7c9-436c-b39e-8aca40f0e448"
      },
      "source": [
        "# this is the formula in case you want to know the name of the day of given task\n",
        "date = pd.DataFrame({'inputDate':['2021-12-14']})\n",
        "date['inputDate'] = pd.to_datetime(date['inputDate'])\n",
        "date['dayOfWeek'] = date['inputDate'].dt.day_name()  \n",
        "date"
      ],
      "execution_count": null,
      "outputs": [
        {
          "output_type": "execute_result",
          "data": {
            "text/html": [
              "<div>\n",
              "<style scoped>\n",
              "    .dataframe tbody tr th:only-of-type {\n",
              "        vertical-align: middle;\n",
              "    }\n",
              "\n",
              "    .dataframe tbody tr th {\n",
              "        vertical-align: top;\n",
              "    }\n",
              "\n",
              "    .dataframe thead th {\n",
              "        text-align: right;\n",
              "    }\n",
              "</style>\n",
              "<table border=\"1\" class=\"dataframe\">\n",
              "  <thead>\n",
              "    <tr style=\"text-align: right;\">\n",
              "      <th></th>\n",
              "      <th>inputDate</th>\n",
              "      <th>dayOfWeek</th>\n",
              "    </tr>\n",
              "  </thead>\n",
              "  <tbody>\n",
              "    <tr>\n",
              "      <th>0</th>\n",
              "      <td>2021-12-14</td>\n",
              "      <td>Tuesday</td>\n",
              "    </tr>\n",
              "  </tbody>\n",
              "</table>\n",
              "</div>"
            ],
            "text/plain": [
              "   inputDate dayOfWeek\n",
              "0 2021-12-14   Tuesday"
            ]
          },
          "metadata": {},
          "execution_count": 127
        }
      ]
    },
    {
      "cell_type": "code",
      "metadata": {
        "id": "i9qsaEC7kdV_",
        "colab": {
          "base_uri": "https://localhost:8080/"
        },
        "outputId": "5fa19999-e47b-463e-c9d9-83b96a0ad738"
      },
      "source": [
        "# what day will it be in 7 days ?\n",
        "print(datetime.now() + timedelta(days=7))\n"
      ],
      "execution_count": null,
      "outputs": [
        {
          "output_type": "stream",
          "name": "stdout",
          "text": [
            "2021-11-02 10:14:34.054873\n"
          ]
        }
      ]
    },
    {
      "cell_type": "code",
      "metadata": {
        "colab": {
          "base_uri": "https://localhost:8080/",
          "height": 79
        },
        "id": "RLX74HjaGEel",
        "outputId": "2b55628c-0210-4257-9484-0b8691fe9791"
      },
      "source": [
        "# this is the formula in case you want to know the name of the day of given task\n",
        "date = pd.DataFrame({'inputDate':['2021-11-02']})\n",
        "date['inputDate'] = pd.to_datetime(date['inputDate'])\n",
        "date['dayOfWeek'] = date['inputDate'].dt.day_name()  \n",
        "date"
      ],
      "execution_count": null,
      "outputs": [
        {
          "output_type": "execute_result",
          "data": {
            "text/html": [
              "<div>\n",
              "<style scoped>\n",
              "    .dataframe tbody tr th:only-of-type {\n",
              "        vertical-align: middle;\n",
              "    }\n",
              "\n",
              "    .dataframe tbody tr th {\n",
              "        vertical-align: top;\n",
              "    }\n",
              "\n",
              "    .dataframe thead th {\n",
              "        text-align: right;\n",
              "    }\n",
              "</style>\n",
              "<table border=\"1\" class=\"dataframe\">\n",
              "  <thead>\n",
              "    <tr style=\"text-align: right;\">\n",
              "      <th></th>\n",
              "      <th>inputDate</th>\n",
              "      <th>dayOfWeek</th>\n",
              "    </tr>\n",
              "  </thead>\n",
              "  <tbody>\n",
              "    <tr>\n",
              "      <th>0</th>\n",
              "      <td>2021-11-02</td>\n",
              "      <td>Tuesday</td>\n",
              "    </tr>\n",
              "  </tbody>\n",
              "</table>\n",
              "</div>"
            ],
            "text/plain": [
              "   inputDate dayOfWeek\n",
              "0 2021-11-02   Tuesday"
            ]
          },
          "metadata": {},
          "execution_count": 131
        }
      ]
    },
    {
      "cell_type": "code",
      "metadata": {
        "id": "SJYZOuUikhIq",
        "colab": {
          "base_uri": "https://localhost:8080/"
        },
        "outputId": "4d52d9d4-4c67-48ed-8c71-b7a442b4f15d"
      },
      "source": [
        "# what day will it be in 72 hours ?\n",
        "print(datetime.now() + timedelta(hours=72))\n"
      ],
      "execution_count": null,
      "outputs": [
        {
          "output_type": "stream",
          "name": "stdout",
          "text": [
            "2021-10-29 10:14:24.174915\n"
          ]
        }
      ]
    },
    {
      "cell_type": "code",
      "metadata": {
        "colab": {
          "base_uri": "https://localhost:8080/",
          "height": 79
        },
        "id": "OH5kXUC6GIgc",
        "outputId": "1f88be1f-a58a-44a2-d0c8-14f357f41bba"
      },
      "source": [
        "# this is the formula in case you want to know the name of the day of given task\n",
        "date = pd.DataFrame({'inputDate':['2021-10-29']})\n",
        "date['inputDate'] = pd.to_datetime(date['inputDate'])\n",
        "date['dayOfWeek'] = date['inputDate'].dt.day_name()  \n",
        "date"
      ],
      "execution_count": null,
      "outputs": [
        {
          "output_type": "execute_result",
          "data": {
            "text/html": [
              "<div>\n",
              "<style scoped>\n",
              "    .dataframe tbody tr th:only-of-type {\n",
              "        vertical-align: middle;\n",
              "    }\n",
              "\n",
              "    .dataframe tbody tr th {\n",
              "        vertical-align: top;\n",
              "    }\n",
              "\n",
              "    .dataframe thead th {\n",
              "        text-align: right;\n",
              "    }\n",
              "</style>\n",
              "<table border=\"1\" class=\"dataframe\">\n",
              "  <thead>\n",
              "    <tr style=\"text-align: right;\">\n",
              "      <th></th>\n",
              "      <th>inputDate</th>\n",
              "      <th>dayOfWeek</th>\n",
              "    </tr>\n",
              "  </thead>\n",
              "  <tbody>\n",
              "    <tr>\n",
              "      <th>0</th>\n",
              "      <td>2021-10-29</td>\n",
              "      <td>Friday</td>\n",
              "    </tr>\n",
              "  </tbody>\n",
              "</table>\n",
              "</div>"
            ],
            "text/plain": [
              "   inputDate dayOfWeek\n",
              "0 2021-10-29    Friday"
            ]
          },
          "metadata": {},
          "execution_count": 133
        }
      ]
    },
    {
      "cell_type": "code",
      "metadata": {
        "id": "kdk858vtkljP",
        "colab": {
          "base_uri": "https://localhost:8080/"
        },
        "outputId": "c7585da5-d306-4167-8a39-b58171ea1c43"
      },
      "source": [
        "# what date was 30 days ago ?\n",
        "\n",
        "print(datetime.now() - timedelta(days=30))"
      ],
      "execution_count": null,
      "outputs": [
        {
          "output_type": "stream",
          "name": "stdout",
          "text": [
            "2021-09-26 10:16:54.999389\n"
          ]
        }
      ]
    },
    {
      "cell_type": "code",
      "metadata": {
        "id": "EEORndhxkuA1",
        "colab": {
          "base_uri": "https://localhost:8080/"
        },
        "outputId": "2f0bb48e-9f12-4779-dae9-69e05144163d"
      },
      "source": [
        "# what date was 30 weeks ago ?\n",
        "\n",
        "print(datetime.now() - timedelta(weeks=30))"
      ],
      "execution_count": null,
      "outputs": [
        {
          "output_type": "stream",
          "name": "stdout",
          "text": [
            "2021-03-30 10:17:24.553483\n"
          ]
        }
      ]
    },
    {
      "cell_type": "markdown",
      "metadata": {
        "id": "vlbi8zDok3sp"
      },
      "source": [
        "# With Pandas\n",
        "\"DATE\" column has only string values. On a chart, the X-axis is not well displayed."
      ]
    },
    {
      "cell_type": "code",
      "metadata": {
        "id": "yd0cJVoLk3YZ",
        "colab": {
          "base_uri": "https://localhost:8080/",
          "height": 265
        },
        "outputId": "bee52103-ade0-4beb-f135-df1fe74ae507"
      },
      "source": [
        "# Just execute the code below:\n",
        "df = pd.read_csv(\"https://raw.githubusercontent.com/murpi/wilddata/master/quests/weather2019.csv\")\n",
        "plt.scatter(x = df['DATE'], \n",
        "            y = df['MAX_TEMPERATURE_C'])\n",
        "plt.show()"
      ],
      "execution_count": null,
      "outputs": [
        {
          "output_type": "display_data",
          "data": {
            "image/png": "[encoded data removed]",
            "text/plain": [
              "<Figure size 432x288 with 1 Axes>"
            ]
          },
          "metadata": {
            "needs_background": "light"
          }
        }
      ]
    },
    {
      "cell_type": "code",
      "metadata": {
        "id": "-ZxwPNNelIJV",
        "colab": {
          "base_uri": "https://localhost:8080/",
          "height": 265
        },
        "outputId": "3dd372c0-b7d3-4150-cb5e-0ef8697ff4a2"
      },
      "source": [
        "# Convert \"DATE\" column into a datetime format, then display the same chart. Are ticks on X-axis better printed ?\n",
        "\n",
        "\n",
        "plt.scatter(x = df['DATE'].apply(lambda x: datetime.strptime(x, '%Y-%m-%d')), \n",
        "            y = df['MAX_TEMPERATURE_C'])\n",
        "plt.show()"
      ],
      "execution_count": null,
      "outputs": [
        {
          "output_type": "display_data",
          "data": {
            "image/png": "[encoded data removed]",
            "text/plain": [
              "<Figure size 432x288 with 1 Axes>"
            ]
          },
          "metadata": {
            "needs_background": "light"
          }
        }
      ]
    },
    {
      "cell_type": "code",
      "metadata": {
        "id": "UEyTRF_ZooSz",
        "colab": {
          "base_uri": "https://localhost:8080/",
          "height": 265
        },
        "outputId": "bad577a9-dc2a-43e3-d484-ecd571e03ad0"
      },
      "source": [
        "# Display only rows for the month of June\n",
        "fig, ax = plt.subplots(figsize = (12,4))\n",
        "\n",
        "mask = (df['DATE'] >= '2019-06-01') & (df['DATE'] < '2019-06-30')\n",
        "\n",
        "plt.scatter(x = df[mask]['DATE'].apply(lambda x: datetime.strptime(x, '%Y-%m-%d')), \n",
        "            y = df[mask]['MAX_TEMPERATURE_C'])\n",
        "plt.show()"
      ],
      "execution_count": null,
      "outputs": [
        {
          "output_type": "display_data",
          "data": {
            "image/png": "[encoded data removed]",
            "text/plain": [
              "<Figure size 864x288 with 1 Axes>"
            ]
          },
          "metadata": {
            "needs_background": "light"
          }
        }
      ]
    }
  ]
}